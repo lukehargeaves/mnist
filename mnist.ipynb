{
 "cells": [
  {
   "cell_type": "code",
   "execution_count": 1,
   "metadata": {},
   "outputs": [],
   "source": [
    "%matplotlib inline \n",
    "import numpy as np \n",
    "import pandas as pd\n",
    "import matplotlib.pyplot as plt\n",
    "import time "
   ]
  },
  {
   "cell_type": "code",
   "execution_count": 2,
   "metadata": {},
   "outputs": [],
   "source": [
    "data = pd.read_csv('train.csv')\n",
    "data_t = pd.read_csv('test.csv')"
   ]
  },
  {
   "cell_type": "code",
   "execution_count": 13,
   "metadata": {},
   "outputs": [],
   "source": [
    "train_labels = data.iloc[:,0]\n",
    "train = data.iloc[:,1:785]\n",
    "test= data_t\n",
    "train_data = []\n",
    "test_data = []\n",
    "for i in range (len(train)):\n",
    "    t = train.iloc[i].values.reshape((28,28))\n",
    "    train_data.append(t)\n",
    "for i in range (len(test)):\n",
    "    r = test.iloc[i].values.reshape((28,28))\n",
    "    test_data.append(r)\n",
    "\n",
    "t1 = test_data[0:20]\n"
   ]
  },
  {
   "cell_type": "code",
   "execution_count": 4,
   "metadata": {},
   "outputs": [
    {
     "name": "stdout",
     "output_type": "stream",
     "text": [
      "{0: 4132, 1: 4684, 2: 4177, 3: 4351, 4: 4072, 5: 3795, 6: 4137, 7: 4401, 8: 4063, 9: 4188}\n"
     ]
    }
   ],
   "source": [
    "train_number, train_count = np.unique(train_labels, return_counts= True)\n",
    "print(dict(zip(train_number, train_count)))"
   ]
  },
  {
   "cell_type": "code",
   "execution_count": 4,
   "metadata": {},
   "outputs": [],
   "source": [
    "def vis_image(x):\n",
    "    plt.axis('off') #takes off the axis\n",
    "    plt.imshow(x,cmap=plt.cm.gray)\n",
    "    plt.show()\n",
    "    return\n",
    "\n",
    "def show_image(index, dataset = \"\"):\n",
    "    if (dataset == \"train\"):\n",
    "        vis_image(train_data[index])\n",
    "        label = train_labels[index]\n",
    "        print(\"Training label\",label)\n",
    "    else:\n",
    "        vis_image(test_data[index])\n",
    "        \n",
    "        print(\"Testing image\")\n",
    "    return \n",
    "\n",
    "\n"
   ]
  },
  {
   "cell_type": "code",
   "execution_count": 5,
   "metadata": {},
   "outputs": [
    {
     "name": "stdout",
     "output_type": "stream",
     "text": [
      "Euclidean distance between: 10397736\n"
     ]
    }
   ],
   "source": [
    "def e_distance(x,y):\n",
    "    return np.sum(np.square(x-y))\n",
    "\n",
    "def L1(x,y):\n",
    "    return np.sum(x-y)\n",
    "\n",
    "def L_inf(x,y):\n",
    "    return np.max(x-y)\n",
    "\n",
    "print('Euclidean distance between:', e_distance(train_data[1],train_data[2]))\n",
    "\n",
    "#print('L1:', L1(train_data[1],train_data[2]))\n",
    "\n",
    "#print('L infinity:', L_inf(train_data[1],train_data[2]))"
   ]
  },
  {
   "cell_type": "code",
   "execution_count": 16,
   "metadata": {},
   "outputs": [
    {
     "name": "stdout",
     "output_type": "stream",
     "text": [
      "NN Comparison\n",
      "NN clasifier:  2\n"
     ]
    },
    {
     "data": {
      "image/png": "[encoded data removed]",
      "text/plain": [
       "<Figure size 432x288 with 1 Axes>"
      ]
     },
     "metadata": {},
     "output_type": "display_data"
    },
    {
     "name": "stdout",
     "output_type": "stream",
     "text": [
      "Testing image\n",
      "Test image None\n"
     ]
    },
    {
     "data": {
      "image/png": "[encoded data removed]",
      "text/plain": [
       "<Figure size 432x288 with 1 Axes>"
      ]
     },
     "metadata": {},
     "output_type": "display_data"
    },
    {
     "name": "stdout",
     "output_type": "stream",
     "text": [
      "Training label 2\n",
      "Nearest neighbour image None\n"
     ]
    }
   ],
   "source": [
    "def NN(x):\n",
    "    distances = []\n",
    "    for i in range (len(train_data)):\n",
    "        temp = e_distance(x, train_data[i])\n",
    "        distances.append(temp)   \n",
    "    return np.argmin(distances)\n",
    "def NN_classifier(x):\n",
    "    index = NN(x)\n",
    "    return train_labels[index]\n",
    "def run_nn(x):\n",
    "    print('NN Comparison')\n",
    "    print('NN clasifier: ',NN_classifier(test_data[x]))\n",
    "    print('Test image', show_image(x,\"test\"))\n",
    "    print('Nearest neighbour image',show_image(NN(test_data[x]),\"train\"))\n",
    "    return\n",
    "run_nn(0)"
   ]
  },
  {
   "cell_type": "code",
   "execution_count": 14,
   "metadata": {},
   "outputs": [
    {
     "name": "stdout",
     "output_type": "stream",
     "text": [
      "[2, 0, 9, 0, 3, 7, 0, 3, 0, 3, 5, 7, 4, 0, 4, 3, 3, 1, 9, 0]\n",
      "15.67418384552002\n"
     ]
    }
   ],
   "source": [
    "before = time.time()\n",
    "test_predictions = []\n",
    "for i in range(len(t1)):\n",
    "    temp = NN_classifier(t1[i])\n",
    "    test_predictions.append(temp)\n",
    "after = time.time()\n",
    "\n",
    "print(test_predictions)\n",
    "print(after - before)"
   ]
  },
  {
   "cell_type": "code",
   "execution_count": null,
   "metadata": {},
   "outputs": [],
   "source": []
  },
  {
   "cell_type": "code",
   "execution_count": null,
   "metadata": {},
   "outputs": [],
   "source": []
  }
 ],
 "metadata": {
  "kernelspec": {
   "display_name": "Python 3",
   "language": "python",
   "name": "python3"
  },
  "language_info": {
   "codemirror_mode": {
    "name": "ipython",
    "version": 3
   },
   "file_extension": ".py",
   "mimetype": "text/x-python",
   "name": "python",
   "nbconvert_exporter": "python",
   "pygments_lexer": "ipython3",
   "version": "3.6.4"
  }
 },
 "nbformat": 4,
 "nbformat_minor": 2
}
